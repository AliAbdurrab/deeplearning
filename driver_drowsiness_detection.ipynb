{
  "metadata": {
    "kernelspec": {
      "language": "python",
      "display_name": "Python 3",
      "name": "python3"
    },
    "language_info": {
      "pygments_lexer": "ipython3",
      "nbconvert_exporter": "python",
      "version": "3.6.4",
      "file_extension": ".py",
      "codemirror_mode": {
        "name": "ipython",
        "version": 3
      },
      "name": "python",
      "mimetype": "text/x-python"
    },
    "colab": {
      "name": "driver drowsiness detection.ipynb",
      "provenance": []
    }
  },
  "nbformat_minor": 0,
  "nbformat": 4,
  "cells": [
    {
      "cell_type": "code",
      "source": [
        "import numpy as np\n",
        "import pandas as pd\n",
        "import os\n",
        "import cv2"
      ],
      "metadata": {
        "_uuid": "8f2839f25d086af736a60e9eeb907d3b93b6e0e5",
        "_cell_guid": "b1076dfc-b9ad-4769-8c92-a6c4dae69d19",
        "trusted": true,
        "id": "BoBti4FJU9Yz"
      },
      "execution_count": null,
      "outputs": []
    },
    {
      "cell_type": "code",
      "source": [
        "labels = os.listdir(\"../input/drowsiness-dataset/train\")"
      ],
      "metadata": {
        "_uuid": "d629ff2d2480ee46fbb7e2d37f6b5fab8052498a",
        "_cell_guid": "79c7e3d0-c299-4dcb-8224-4455121ee9b0",
        "trusted": true,
        "id": "L-nPju6ZU9Y1"
      },
      "execution_count": null,
      "outputs": []
    },
    {
      "cell_type": "code",
      "source": [
        "labels"
      ],
      "metadata": {
        "trusted": true,
        "id": "12iuLaGpU9Y1"
      },
      "execution_count": null,
      "outputs": []
    },
    {
      "cell_type": "markdown",
      "source": [
        "# visualize random 1 image"
      ],
      "metadata": {
        "id": "p53TkTcZU9Y2"
      }
    },
    {
      "cell_type": "code",
      "source": [
        "import matplotlib.pyplot as plt\n",
        "plt.imshow(plt.imread(\"../input/drowsiness-dataset/train/Closed/_0.jpg\"))"
      ],
      "metadata": {
        "trusted": true,
        "id": "ExOYJHKjU9Y2"
      },
      "execution_count": null,
      "outputs": []
    },
    {
      "cell_type": "markdown",
      "source": [
        "# image array"
      ],
      "metadata": {
        "id": "LhF4D4KoU9Y3"
      }
    },
    {
      "cell_type": "code",
      "source": [
        "a = plt.imread(\"../input/drowsiness-dataset/train/yawn/10.jpg\")"
      ],
      "metadata": {
        "trusted": true,
        "id": "wpKbhWEUU9Y3"
      },
      "execution_count": null,
      "outputs": []
    },
    {
      "cell_type": "markdown",
      "source": [
        "# image shape"
      ],
      "metadata": {
        "id": "sLuV8VfgU9Y4"
      }
    },
    {
      "cell_type": "code",
      "source": [
        "a.shape"
      ],
      "metadata": {
        "trusted": true,
        "id": "4oRw4rAZU9Y7"
      },
      "execution_count": null,
      "outputs": []
    },
    {
      "cell_type": "markdown",
      "source": [
        "# visualize yawn image. \n",
        "# Here background is unnecessary. we need only face image array"
      ],
      "metadata": {
        "id": "NxseuOGtU9Y7"
      }
    },
    {
      "cell_type": "code",
      "source": [
        "plt.imshow(plt.imread(\"../input/drowsiness-dataset/train/yawn/10.jpg\"))"
      ],
      "metadata": {
        "trusted": true,
        "id": "UumesyMIU9Y8"
      },
      "execution_count": null,
      "outputs": []
    },
    {
      "cell_type": "markdown",
      "source": [
        "# for yawn and not_yawn. Take only face"
      ],
      "metadata": {
        "id": "pmee9d0NU9Y8"
      }
    },
    {
      "cell_type": "code",
      "source": [
        "def face_for_yawn(direc=\"../input/drowsiness-dataset/train\", face_cas_path=\"../input/prediction-images/haarcascade_frontalface_default.xml\"):\n",
        "    yaw_no = []\n",
        "    IMG_SIZE = 145\n",
        "    categories = [\"yawn\", \"no_yawn\"]\n",
        "    for category in categories:\n",
        "        path_link = os.path.join(direc, category)\n",
        "        class_num1 = categories.index(category)\n",
        "        print(class_num1)\n",
        "        for image in os.listdir(path_link):\n",
        "            image_array = cv2.imread(os.path.join(path_link, image), cv2.IMREAD_COLOR)\n",
        "            face_cascade = cv2.CascadeClassifier(face_cas_path)\n",
        "            faces = face_cascade.detectMultiScale(image_array, 1.3, 5)\n",
        "            for (x, y, w, h) in faces:\n",
        "                img = cv2.rectangle(image_array, (x, y), (x+w, y+h), (0, 255, 0), 2)\n",
        "                roi_color = img[y:y+h, x:x+w]\n",
        "                resized_array = cv2.resize(roi_color, (IMG_SIZE, IMG_SIZE))\n",
        "                yaw_no.append([resized_array, class_num1])\n",
        "    return yaw_no\n",
        "\n",
        "\n",
        "yawn_no_yawn = face_for_yawn()"
      ],
      "metadata": {
        "trusted": true,
        "id": "lSF0FSGiU9Y8"
      },
      "execution_count": null,
      "outputs": []
    },
    {
      "cell_type": "markdown",
      "source": [
        "# for closed and open eye"
      ],
      "metadata": {
        "id": "oM99UQraU9Y9"
      }
    },
    {
      "cell_type": "code",
      "source": [
        "def get_data(dir_path=\"../input/drowsiness-dataset/train/\", face_cas=\"../input/prediction-images/haarcascade_frontalface_default.xml\", eye_cas=\"../input/prediction-images/haarcascade.xml\"):\n",
        "    labels = ['Closed', 'Open']\n",
        "    IMG_SIZE = 145\n",
        "    data = []\n",
        "    for label in labels:\n",
        "        path = os.path.join(dir_path, label)\n",
        "        class_num = labels.index(label)\n",
        "        class_num +=2\n",
        "        print(class_num)\n",
        "        for img in os.listdir(path):\n",
        "            try:\n",
        "                img_array = cv2.imread(os.path.join(path, img), cv2.IMREAD_COLOR)\n",
        "                resized_array = cv2.resize(img_array, (IMG_SIZE, IMG_SIZE))\n",
        "                data.append([resized_array, class_num])\n",
        "            except Exception as e:\n",
        "                print(e)\n",
        "    return data"
      ],
      "metadata": {
        "trusted": true,
        "id": "LajjjhfZU9Y9"
      },
      "execution_count": null,
      "outputs": []
    },
    {
      "cell_type": "code",
      "source": [
        "data_train = get_data()"
      ],
      "metadata": {
        "trusted": true,
        "id": "a4_KdH8BU9Y-"
      },
      "execution_count": null,
      "outputs": []
    },
    {
      "cell_type": "markdown",
      "source": [
        "# extend data and convert array"
      ],
      "metadata": {
        "id": "2brJamtbU9Y-"
      }
    },
    {
      "cell_type": "code",
      "source": [
        "def append_data():\n",
        "#     total_data = []\n",
        "    yaw_no = face_for_yawn()\n",
        "    data = get_data()\n",
        "    yaw_no.extend(data)\n",
        "    return np.array(yaw_no)"
      ],
      "metadata": {
        "trusted": true,
        "id": "QoC7wzuDU9Y-"
      },
      "execution_count": null,
      "outputs": []
    },
    {
      "cell_type": "markdown",
      "source": [
        "# new variable to store"
      ],
      "metadata": {
        "id": "D0cZb7NEU9Y-"
      }
    },
    {
      "cell_type": "code",
      "source": [
        "new_data = append_data()"
      ],
      "metadata": {
        "trusted": true,
        "id": "CqssCsd3U9Y_"
      },
      "execution_count": null,
      "outputs": []
    },
    {
      "cell_type": "markdown",
      "source": [
        "# separate label and features"
      ],
      "metadata": {
        "id": "X2z8TR89U9Y_"
      }
    },
    {
      "cell_type": "code",
      "source": [
        "X = []\n",
        "y = []\n",
        "for feature, label in new_data:\n",
        "    X.append(feature)\n",
        "    y.append(label)"
      ],
      "metadata": {
        "trusted": true,
        "id": "h30_icjxU9Y_"
      },
      "execution_count": null,
      "outputs": []
    },
    {
      "cell_type": "markdown",
      "source": [
        "# reshape the array"
      ],
      "metadata": {
        "id": "PYN5Ls0BU9Y_"
      }
    },
    {
      "cell_type": "code",
      "source": [
        "X = np.array(X)\n",
        "X = X.reshape(-1, 145, 145, 3)"
      ],
      "metadata": {
        "trusted": true,
        "id": "jCAZqQJHU9Y_"
      },
      "execution_count": null,
      "outputs": []
    },
    {
      "cell_type": "markdown",
      "source": [
        "# LabelBinarizer"
      ],
      "metadata": {
        "id": "acIUDw8QU9ZA"
      }
    },
    {
      "cell_type": "code",
      "source": [
        "from sklearn.preprocessing import LabelBinarizer\n",
        "label_bin = LabelBinarizer()\n",
        "y = label_bin.fit_transform(y)"
      ],
      "metadata": {
        "trusted": true,
        "id": "_jqDBe4BU9ZA"
      },
      "execution_count": null,
      "outputs": []
    },
    {
      "cell_type": "markdown",
      "source": [
        "# label array"
      ],
      "metadata": {
        "id": "1MKu-ZbrU9ZA"
      }
    },
    {
      "cell_type": "code",
      "source": [
        "y = np.array(y)"
      ],
      "metadata": {
        "trusted": true,
        "id": "Z2Tfq-hwU9ZA"
      },
      "execution_count": null,
      "outputs": []
    },
    {
      "cell_type": "markdown",
      "source": [
        "# train test split"
      ],
      "metadata": {
        "id": "rYdGrKi_U9ZA"
      }
    },
    {
      "cell_type": "code",
      "source": [
        "from sklearn.model_selection import train_test_split\n",
        "seed = 42\n",
        "test_size = 0.30\n",
        "X_train, X_test, y_train, y_test = train_test_split(X, y, random_state=seed, test_size=test_size)"
      ],
      "metadata": {
        "trusted": true,
        "id": "lCQApVf0U9ZA"
      },
      "execution_count": null,
      "outputs": []
    },
    {
      "cell_type": "markdown",
      "source": [
        "# length of X_test"
      ],
      "metadata": {
        "id": "QIRdjTCeU9ZA"
      }
    },
    {
      "cell_type": "code",
      "source": [
        "len(X_test)"
      ],
      "metadata": {
        "trusted": true,
        "id": "icnlTnuGU9ZB"
      },
      "execution_count": null,
      "outputs": []
    },
    {
      "cell_type": "markdown",
      "source": [
        "# import some dependencies"
      ],
      "metadata": {
        "id": "8pGLQUtLU9ZC"
      }
    },
    {
      "cell_type": "code",
      "source": [
        "from tensorflow.keras.layers import Input, Lambda, Dense, Flatten, Conv2D, MaxPooling2D, Dropout\n",
        "from tensorflow.keras.models import Model\n",
        "from tensorflow.keras.models import Sequential\n",
        "from keras.preprocessing.image import ImageDataGenerator\n",
        "import tensorflow as tf"
      ],
      "metadata": {
        "trusted": true,
        "id": "KFugfLR_U9ZC"
      },
      "execution_count": null,
      "outputs": []
    },
    {
      "cell_type": "markdown",
      "source": [
        "# tensorflow version"
      ],
      "metadata": {
        "id": "nVW4JlKMU9ZC"
      }
    },
    {
      "cell_type": "code",
      "source": [
        "tf.__version__"
      ],
      "metadata": {
        "trusted": true,
        "id": "-Kj-nIC1U9ZC"
      },
      "execution_count": null,
      "outputs": []
    },
    {
      "cell_type": "markdown",
      "source": [
        "# keras version"
      ],
      "metadata": {
        "id": "hUtq7T3GU9ZC"
      }
    },
    {
      "cell_type": "code",
      "source": [
        "import keras\n",
        "keras.__version__"
      ],
      "metadata": {
        "trusted": true,
        "id": "roSbxxoQU9ZD"
      },
      "execution_count": null,
      "outputs": []
    },
    {
      "cell_type": "markdown",
      "source": [
        "# Data Augmentation"
      ],
      "metadata": {
        "id": "vdoXTmhwU9ZD"
      }
    },
    {
      "cell_type": "code",
      "source": [
        "train_generator = ImageDataGenerator(rescale=1/255, zoom_range=0.2, horizontal_flip=True, rotation_range=30)\n",
        "test_generator = ImageDataGenerator(rescale=1/255)\n",
        "\n",
        "train_generator = train_generator.flow(np.array(X_train), y_train, shuffle=False)\n",
        "test_generator = test_generator.flow(np.array(X_test), y_test, shuffle=False)"
      ],
      "metadata": {
        "trusted": true,
        "id": "XwT8Vn9vU9ZD"
      },
      "execution_count": null,
      "outputs": []
    },
    {
      "cell_type": "markdown",
      "source": [
        "# Model"
      ],
      "metadata": {
        "id": "0ZELVWCBU9ZD"
      }
    },
    {
      "cell_type": "code",
      "source": [
        "model = Sequential()\n",
        "\n",
        "model.add(Conv2D(256, (3, 3), activation=\"relu\", input_shape=X_train.shape[1:]))\n",
        "model.add(MaxPooling2D(2, 2))\n",
        "\n",
        "model.add(Conv2D(128, (3, 3), activation=\"relu\"))\n",
        "model.add(MaxPooling2D(2, 2))\n",
        "\n",
        "model.add(Conv2D(64, (3, 3), activation=\"relu\"))\n",
        "model.add(MaxPooling2D(2, 2))\n",
        "\n",
        "model.add(Conv2D(32, (3, 3), activation=\"relu\"))\n",
        "model.add(MaxPooling2D(2, 2))\n",
        "\n",
        "model.add(Flatten())\n",
        "model.add(Dropout(0.5))\n",
        "\n",
        "model.add(Dense(64, activation=\"relu\"))\n",
        "model.add(Dense(4, activation=\"softmax\"))\n",
        "\n",
        "model.compile(loss=\"categorical_crossentropy\", metrics=[\"accuracy\"], optimizer=\"adam\")\n",
        "\n",
        "model.summary()"
      ],
      "metadata": {
        "trusted": true,
        "id": "ryf_AGWFU9ZD"
      },
      "execution_count": null,
      "outputs": []
    },
    {
      "cell_type": "code",
      "source": [
        "history = model.fit(train_generator, epochs=50, validation_data=test_generator, shuffle=True, validation_steps=len(test_generator))"
      ],
      "metadata": {
        "trusted": true,
        "id": "9_ljieQvU9ZD"
      },
      "execution_count": null,
      "outputs": []
    },
    {
      "cell_type": "markdown",
      "source": [
        "# history"
      ],
      "metadata": {
        "id": "fCP8gpTrU9ZE"
      }
    },
    {
      "cell_type": "code",
      "source": [
        "accuracy = history.history['accuracy']\n",
        "val_accuracy = history.history['val_accuracy']\n",
        "loss = history.history['loss']\n",
        "val_loss = history.history['val_loss']\n",
        "epochs = range(len(accuracy))\n",
        "\n",
        "plt.plot(epochs, accuracy, \"b\", label=\"trainning accuracy\")\n",
        "plt.plot(epochs, val_accuracy, \"r\", label=\"validation accuracy\")\n",
        "plt.legend()\n",
        "plt.show()\n",
        "\n",
        "plt.plot(epochs, loss, \"b\", label=\"trainning loss\")\n",
        "plt.plot(epochs, val_loss, \"r\", label=\"validation loss\")\n",
        "plt.legend()\n",
        "plt.savefig(\"graph.png\")\n",
        "plt.show()\n"
      ],
      "metadata": {
        "trusted": true,
        "id": "pxsv19D1U9ZE"
      },
      "execution_count": null,
      "outputs": []
    },
    {
      "cell_type": "markdown",
      "source": [
        "# save model"
      ],
      "metadata": {
        "id": "sQKVC4EVU9ZE"
      }
    },
    {
      "cell_type": "code",
      "source": [
        "model.save(\"drowiness_new6.h5\")"
      ],
      "metadata": {
        "trusted": true,
        "id": "ZDCdEVoVU9ZE"
      },
      "execution_count": null,
      "outputs": []
    },
    {
      "cell_type": "code",
      "source": [
        "model.save(\"drowiness_new6.model\")"
      ],
      "metadata": {
        "trusted": true,
        "id": "bm_rA6QYU9ZE"
      },
      "execution_count": null,
      "outputs": []
    },
    {
      "cell_type": "markdown",
      "source": [
        "# Prediction"
      ],
      "metadata": {
        "id": "KHk6AWViU9ZE"
      }
    },
    {
      "cell_type": "code",
      "source": [
        "prediction = model.predict_classes(X_test)"
      ],
      "metadata": {
        "trusted": true,
        "id": "aXXZvbsgU9ZE"
      },
      "execution_count": null,
      "outputs": []
    },
    {
      "cell_type": "code",
      "source": [
        "prediction"
      ],
      "metadata": {
        "trusted": true,
        "id": "ypNYlEHyU9ZF"
      },
      "execution_count": null,
      "outputs": []
    },
    {
      "cell_type": "markdown",
      "source": [
        "# classification report"
      ],
      "metadata": {
        "id": "doE_j94cU9ZF"
      }
    },
    {
      "cell_type": "code",
      "source": [
        "labels_new = [\"yawn\", \"no_yawn\", \"Closed\", \"Open\"]"
      ],
      "metadata": {
        "trusted": true,
        "id": "p-YNMqJNU9ZF"
      },
      "execution_count": null,
      "outputs": []
    },
    {
      "cell_type": "code",
      "source": [
        "from sklearn.metrics import classification_report\n",
        "print(classification_report(np.argmax(y_test, axis=1), prediction, target_names=labels_new))"
      ],
      "metadata": {
        "trusted": true,
        "id": "OKrH4pFYU9ZF"
      },
      "execution_count": null,
      "outputs": []
    },
    {
      "cell_type": "markdown",
      "source": [
        "# predicting function"
      ],
      "metadata": {
        "id": "BYntj02dU9ZF"
      }
    },
    {
      "cell_type": "code",
      "source": [
        "labels_new = [\"yawn\", \"no_yawn\", \"Closed\", \"Open\"]\n",
        "IMG_SIZE = 145\n",
        "def prepare(filepath, face_cas=\"../input/prediction-images/haarcascade_frontalface_default.xml\"):\n",
        "    img_array = cv2.imread(filepath, cv2.IMREAD_COLOR)\n",
        "    img_array = img_array / 255\n",
        "    resized_array = cv2.resize(img_array, (IMG_SIZE, IMG_SIZE))\n",
        "    return resized_array.reshape(-1, IMG_SIZE, IMG_SIZE, 3)\n",
        "\n",
        "model = tf.keras.models.load_model(\"./drowiness_new6.h5\")"
      ],
      "metadata": {
        "trusted": true,
        "id": "YC9BMme6U9ZF"
      },
      "execution_count": null,
      "outputs": []
    },
    {
      "cell_type": "markdown",
      "source": [
        "# Prediction \n",
        "## 0-yawn, 1-no_yawn, 2-Closed, 3-Open"
      ],
      "metadata": {
        "id": "T1kpDOwKU9ZG"
      }
    },
    {
      "cell_type": "code",
      "source": [
        "prediction = model.predict([prepare(\"../input/drowsiness-dataset/train/no_yawn/1067.jpg\")])\n",
        "np.argmax(prediction)"
      ],
      "metadata": {
        "trusted": true,
        "id": "Maht3CN_U9ZG"
      },
      "execution_count": null,
      "outputs": []
    },
    {
      "cell_type": "code",
      "source": [
        "prediction = model.predict([prepare(\"../input/drowsiness-dataset/train/Closed/_101.jpg\")])\n",
        "np.argmax(prediction)"
      ],
      "metadata": {
        "trusted": true,
        "id": "lC46f649U9ZG"
      },
      "execution_count": null,
      "outputs": []
    },
    {
      "cell_type": "code",
      "source": [
        "prediction = model.predict([prepare(\"../input/drowsiness-dataset/train/Open/_104.jpg\")])\n",
        "np.argmax(prediction)"
      ],
      "metadata": {
        "trusted": true,
        "id": "IWjYj4-FU9ZH"
      },
      "execution_count": null,
      "outputs": []
    },
    {
      "cell_type": "code",
      "source": [
        "prediction = model.predict([prepare(\"../input/drowsiness-dataset/train/yawn/113.jpg\")])\n",
        "np.argmax(prediction)"
      ],
      "metadata": {
        "trusted": true,
        "id": "u07r2gpSU9ZH"
      },
      "execution_count": null,
      "outputs": []
    },
    {
      "cell_type": "markdown",
      "source": [
        "# added an alarm here\n"
      ],
      "metadata": {
        "id": "JZki8NbeU9ZI"
      }
    },
    {
      "cell_type": "code",
      "source": [
        "import IPython.display as ipd"
      ],
      "metadata": {
        "trusted": true,
        "id": "tbqOM3ZrU9ZI"
      },
      "execution_count": null,
      "outputs": []
    },
    {
      "cell_type": "code",
      "source": [
        "input1=\"../input/drowsiness-dataset/train/yawn/113.jpg\""
      ],
      "metadata": {
        "trusted": true,
        "id": "emAiukM1U9ZI"
      },
      "execution_count": null,
      "outputs": []
    },
    {
      "cell_type": "code",
      "source": [
        "fname = 'TF045.WAV'\n",
        "prediction = model.predict([prepare(input1)])\n",
        "if(np.argmax(prediction)==2 or np.argmax(prediction)==0):\n",
        "   ipd.display(ipd.Audio( '../input/alarm-1/' + fname))"
      ],
      "metadata": {
        "trusted": true,
        "id": "YpICgND7U9ZI"
      },
      "execution_count": null,
      "outputs": []
    }
  ]
}